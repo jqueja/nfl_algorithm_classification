{
 "cells": [
  {
   "cell_type": "code",
   "execution_count": 1,
   "id": "4b15c328",
   "metadata": {},
   "outputs": [
    {
     "name": "stdout",
     "output_type": "stream",
     "text": [
      "The dataset has 74 columns.\n",
      "['#', 'Name', 'TE COMMENTS JJ', 'PLAY#', 'pff_DRIVE', 'pff_DRIVEPLAY', 'pff_QUARTER', 'pff_DOWN', 'DN', 'pff_DISTANCE', 'DIST', 'pff_FIELDPOSITION', 'FPOS', 'pff_GAINLOSS', 'GAIN', 'pff_PENALTY', 'pff_PENALTYYARDS', 'pff_RUNPASS', 'R/P', 'pff_PASSRESULT', 'P RES', 'PERS O', 'pff_OFFPERSONNELBASIC', 'QB#', 'pff_MDUN_O_TEALIGN', 'pff_TES', 'FIB', 'FORM', 'Protection', 'PLAY', 'Play Family', 'pff_RUNCONCEPTPRIMARY', 'pff_RUNCONCEPTSECONDARY', 'pff_MDUN_O_PTRUN', 'pff_MDUN_O_PTCONCEPT', 'PT Concept 1', 'PT Concept 2', 'PT Concept 3', 'Run Concept', 'Screen Concept', 'pff_MDUN_O_FORMSTR', 'pff_HASH', 'pff_SPOTLEFT', 'pff_DEFPERSONNEL', 'DEF PERS', 'pff_DLTECHNIQUES', 'pff_MDUN_O_FRONT', 'FRONT', 'Front Family', 'FRONT ADJ', 'pff_STUNT', 'STUNT 1', 'STUNT 2', 'pff_BLITZDOG', 'pff_MDUN_O_BLITZERDB', 'pff_MDUN_O_BLITZERLB', 'BLITZ', 'Blitz Family', 'BLITZ TYPE', 'COVER', 'COVER FAMILY', 'QB Comments', 'Open/Closed', 'Man/Zone', 'pff_MDUN_O_FORMATION', 'pff_MDUN_D_FORMATION', 'pff_OFFFORMATION', 'pff_OFFFORMATIONGROUP', 'pff_OFFFORMATIONUNBALANCED', 'pff_OFFODDITIES', 'pff_BUNCHED', 'pffc_STRENGTHTOBOUNDARY', 'pff_MDUN_D_MOTION', 'pff_SHIFTMOTION']\n"
     ]
    }
   ],
   "source": [
    "import polars as pl\n",
    "from plotnine import *\n",
    "import pandas as pd\n",
    "\n",
    "# Read the CSV file\n",
    "df = pl.read_csv(\"familyData.csv\")\n",
    "\n",
    "# Get the number of columns\n",
    "num_columns = df.shape[1]\n",
    "\n",
    "print(f\"The dataset has {num_columns} columns.\")\n",
    "\n",
    "print(df.columns)\n"
   ]
  },
  {
   "cell_type": "code",
   "execution_count": 2,
   "id": "c08b0d38",
   "metadata": {},
   "outputs": [
    {
     "name": "stdout",
     "output_type": "stream",
     "text": [
      "shape: (5, 5)\n",
      "┌──────────┬──────────────┬────────────────────┬──────────────────┬──────────────┐\n",
      "│ pff_HASH ┆ pff_SPOTLEFT ┆ pff_DLTECHNIQUES   ┆ pff_MDUN_O_FRONT ┆ Front Family │\n",
      "│ ---      ┆ ---          ┆ ---                ┆ ---              ┆ ---          │\n",
      "│ str      ┆ i64          ┆ str                ┆ str              ┆ str          │\n",
      "╞══════════╪══════════════╪════════════════════╪══════════════════╪══════════════╡\n",
      "│ R        ┆ 33           ┆ DLT (18); DRT (27) ┆ EVEN G           ┆ FOG          │\n",
      "│ R        ┆ 33           ┆ DLT (19); DRT (27) ┆ EVEN G           ┆ FOG          │\n",
      "│ R        ┆ 33           ┆ DLT (19); DRT (27) ┆ EVEN G           ┆ FOG          │\n",
      "│ R        ┆ 33           ┆ DLT (19); DRT (27) ┆ EVEN G           ┆ FOG          │\n",
      "│ R        ┆ 33           ┆ DLT (19); DRT (28) ┆ EVEN G           ┆ FOG          │\n",
      "└──────────┴──────────────┴────────────────────┴──────────────────┴──────────────┘\n"
     ]
    }
   ],
   "source": [
    "# Define only the columns you want to keep\n",
    "selected_columns = [\n",
    "    \"pff_HASH\",\n",
    "    \"pff_SPOTLEFT\",\n",
    "    \"pff_DLTECHNIQUES\",\n",
    "    \"pff_MDUN_O_FRONT\",\n",
    "    \"Front Family\"\n",
    "]\n",
    "\n",
    "# Read the CSV with column selection (predicate pushdown)\n",
    "df_push = pl.read_csv(\"familyData.csv\", columns=selected_columns)\n",
    "\n",
    "# Preview the result\n",
    "print(df_push.head())\n",
    "\n",
    "# There are some nulls\n",
    "df_push.write_csv(\"familyDataPush.csv\")\n"
   ]
  },
  {
   "cell_type": "code",
   "execution_count": 3,
   "id": "932b4029",
   "metadata": {},
   "outputs": [
    {
     "name": "stderr",
     "output_type": "stream",
     "text": [
      "/var/folders/sb/44_36qs97vzfs8h5yh3l_lvr0000gn/T/ipykernel_29348/4150908927.py:4: DeprecationWarning: `pl.count()` is deprecated. Please use `pl.len()` instead.\n",
      "(Deprecated in version 0.20.5)\n",
      "/var/folders/sb/44_36qs97vzfs8h5yh3l_lvr0000gn/T/ipykernel_29348/4150908927.py:14: DeprecationWarning: `pl.count()` is deprecated. Please use `pl.len()` instead.\n",
      "(Deprecated in version 0.20.5)\n",
      "/Users/jqueja/calpolycs/nfl/nfl_algorithm_classification/.venv/lib/python3.13/site-packages/plotnine/ggplot.py:615: PlotnineWarning: Saving 6.4 x 4.8 in image.\n",
      "/Users/jqueja/calpolycs/nfl/nfl_algorithm_classification/.venv/lib/python3.13/site-packages/plotnine/ggplot.py:616: PlotnineWarning: Filename: front_family_percentages.png\n"
     ]
    }
   ],
   "source": [
    "# Group by 'Front Family' and count rows\n",
    "front_family_counts = (\n",
    "    df_push.group_by(\"Front Family\")\n",
    "      .agg(pl.count().alias(\"Count\"))\n",
    "      .sort(\"Count\", descending=True)\n",
    ")\n",
    "\n",
    "# Filter out rows with null Front Family\n",
    "df_filtered = df_push.filter(pl.col(\"Front Family\").is_not_null())\n",
    "\n",
    "# Group by 'Front Family' and count\n",
    "front_family_counts = (\n",
    "    df_filtered.group_by(\"Front Family\")\n",
    "      .agg(pl.count().alias(\"Count\"))\n",
    ")\n",
    "\n",
    "# Convert to pandas for manipulation and plotting\n",
    "pdf = front_family_counts.to_pandas()\n",
    "\n",
    "# Calculate percentages\n",
    "total = pdf[\"Count\"].sum()\n",
    "pdf[\"Percentage\"] = (pdf[\"Count\"] / total) * 100\n",
    "\n",
    "# Sort by percentage and make 'Front Family' categorical for correct plot order\n",
    "pdf[\"Front Family\"] = pd.Categorical(\n",
    "    pdf[\"Front Family\"],\n",
    "    categories=pdf.sort_values(\"Percentage\", ascending=True)[\"Front Family\"],\n",
    "    ordered=True\n",
    ")\n",
    "\n",
    "# Plot with percentage\n",
    "plot = (\n",
    "    ggplot(pdf, aes(x=\"Front Family\", y=\"Percentage\")) +\n",
    "    geom_bar(stat=\"identity\", fill=\"#3498db\") +\n",
    "    coord_flip() +\n",
    "    labs(\n",
    "        title=\"Percentage by Front Family\",\n",
    "        x=\"Front Family\",\n",
    "        y=\"Percentage (%)\"\n",
    "    ) +\n",
    "    theme_classic()  # White background\n",
    ")\n",
    "\n",
    "# Save the plot\n",
    "plot.save(\"front_family_percentages.png\", dpi=300)\n"
   ]
  },
  {
   "cell_type": "code",
   "execution_count": 12,
   "id": "34881b12",
   "metadata": {},
   "outputs": [],
   "source": [
    "import pandas as pd\n",
    "import matplotlib.pyplot as plt\n",
    "from sklearn.ensemble import RandomForestClassifier\n",
    "from sklearn.model_selection import train_test_split\n",
    "\n",
    "def model_feature_importance_by_label(csv_path, label_value, save_dir=\".\"):\n",
    "    \"\"\"\n",
    "    Train a Random Forest to predict whether Front Family == label_value.\n",
    "    Shows top 20 features by importance.\n",
    "    \"\"\"\n",
    "    # Load data\n",
    "    df = pd.read_csv(csv_path)\n",
    "    df = df.dropna(subset=[\"Front Family\"])\n",
    "\n",
    "    # Create binary target\n",
    "    df[\"target\"] = (df[\"Front Family\"] == label_value).astype(int)\n",
    "    df = df.drop(columns=[\"Front Family\"])\n",
    "\n",
    "    # One-hot encode all string/categorical columns\n",
    "    df = pd.get_dummies(df)\n",
    "\n",
    "    # Features and target\n",
    "    X = df.drop(columns=[\"target\"])\n",
    "    y = df[\"target\"]\n",
    "\n",
    "    # Train/test split\n",
    "    X_train, X_test, y_train, y_test = train_test_split(X, y, stratify=y, random_state=42)\n",
    "\n",
    "    # Train model\n",
    "    model = RandomForestClassifier(random_state=42)\n",
    "    model.fit(X_train, y_train)\n",
    "\n",
    "    # Feature importances\n",
    "    importances = model.feature_importances_\n",
    "    features = X.columns\n",
    "\n",
    "    # Plot top 20\n",
    "    sorted_idx = importances.argsort()[-20:]\n",
    "    plt.figure(figsize=(10, 8))\n",
    "    plt.barh(features[sorted_idx], importances[sorted_idx])\n",
    "    plt.xlabel(\"Feature Importance\")\n",
    "    plt.title(f\"Top Features Predicting {label_value}\")\n",
    "    plt.tight_layout()\n",
    "\n",
    "    # Save to disk\n",
    "    filename = f\"{save_dir}/feature_importance_{label_value}.png\"\n",
    "    plt.savefig(filename, dpi=300)\n",
    "    plt.close()\n",
    "\n",
    "    print(f\"Feature importance plot saved as: {filename}\")\n"
   ]
  },
  {
   "cell_type": "code",
   "execution_count": 13,
   "id": "258af305",
   "metadata": {},
   "outputs": [
    {
     "name": "stdout",
     "output_type": "stream",
     "text": [
      "Feature importance plot saved as: ./feature_importance_FOG.png\n",
      "Feature importance plot saved as: ./feature_importance_FUG.png\n",
      "Feature importance plot saved as: ./feature_importance_FUN.png\n"
     ]
    }
   ],
   "source": [
    "# Run for FOG\n",
    "model_feature_importance_by_label(\"familyDataPush.csv\", \"FOG\")\n",
    "\n",
    "# Run for FUG\n",
    "model_feature_importance_by_label(\"familyDataPush.csv\", \"FUG\")\n",
    "\n",
    "# Run for FUN\n",
    "model_feature_importance_by_label(\"familyDataPush.csv\", \"FUN\")\n"
   ]
  },
  {
   "cell_type": "markdown",
   "id": "72e62756",
   "metadata": {},
   "source": [
    "The top feature that contributes to predicting whether a row is labeled as FOG.\n",
    "\n",
    "pff_MDUB_O_FRONT_EVEN: Strongest indicator\n",
    "pff_SPOTLEFT: Higher or specific values of this numeric feature help differentiate FOG.\n",
    "Techniques like DLT (19); DRT (27) and DLT (19); DRT (28): These specific combinations of defensive line techniques are common in FOG cases.\n",
    "Hashes (pff_HASH_L, pff_HASH_R, etc.): The ball alignment also plays a moderate role."
   ]
  },
  {
   "cell_type": "markdown",
   "id": "480a5d08",
   "metadata": {},
   "source": [
    "# Why a Random Forest?\n",
    "The Random Forest model is a robust ensemble learning method that combines multiple decision trees to improve prediction accuracy and control overfitting. It is particularly effective for classification tasks with complex interactions among features, making it suitable for our dataset.\n"
   ]
  }
 ],
 "metadata": {
  "kernelspec": {
   "display_name": ".venv",
   "language": "python",
   "name": "python3"
  },
  "language_info": {
   "codemirror_mode": {
    "name": "ipython",
    "version": 3
   },
   "file_extension": ".py",
   "mimetype": "text/x-python",
   "name": "python",
   "nbconvert_exporter": "python",
   "pygments_lexer": "ipython3",
   "version": "3.13.3"
  }
 },
 "nbformat": 4,
 "nbformat_minor": 5
}
